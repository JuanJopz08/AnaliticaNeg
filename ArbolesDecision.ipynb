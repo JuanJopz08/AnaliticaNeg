{
  "nbformat": 4,
  "nbformat_minor": 0,
  "metadata": {
    "colab": {
      "provenance": [],
      "authorship_tag": "ABX9TyN8LHOEtirJj5qGnCAvOdN0",
      "include_colab_link": true
    },
    "kernelspec": {
      "name": "python3",
      "display_name": "Python 3"
    },
    "language_info": {
      "name": "python"
    }
  },
  "cells": [
    {
      "cell_type": "markdown",
      "metadata": {
        "id": "view-in-github",
        "colab_type": "text"
      },
      "source": [
        "<a href=\"https://colab.research.google.com/github/JuanJopz08/AnaliticaNeg/blob/main/ArbolesDecision.ipynb\" target=\"_parent\"><img src=\"https://colab.research.google.com/assets/colab-badge.svg\" alt=\"Open In Colab\"/></a>"
      ]
    },
    {
      "cell_type": "markdown",
      "source": [
        "0. se procede con la carga de las librerias de trabajo"
      ],
      "metadata": {
        "id": "T2MigVW67rD4"
      }
    },
    {
      "cell_type": "code",
      "execution_count": null,
      "metadata": {
        "colab": {
          "base_uri": "https://localhost:8080/"
        },
        "id": "s6vvnqYU66Qc",
        "outputId": "5e15fbbf-135c-4030-a656-bcc7838cf2e6"
      },
      "outputs": [
        {
          "output_type": "stream",
          "name": "stdout",
          "text": [
            "Drive already mounted at /content/drive; to attempt to forcibly remount, call drive.mount(\"/content/drive\", force_remount=True).\n"
          ]
        }
      ],
      "source": [
        "import pandas as pd\n",
        "import numpy as np\n",
        "\n",
        "#para la implementacion y evaluacion del modelo\n",
        "from sklearn.tree import DecisionTreeClassifier\n",
        "from sklearn.metrics import confusion_matrix\n",
        "\n",
        "#Para la carga automatica de los archivos desde el drive\n",
        "from google.colab import drive\n",
        "drive.mount('/content/drive')"
      ]
    },
    {
      "cell_type": "code",
      "source": [
        "nxl='/content/6. SolicitantesCrédito(USD) (Original).xlsx'\n",
        "XDB=pd.read_excel(nxl,sheet_name=1)\n",
        "XDB.head(100) #solo se muestran 100 datos\n",
        "\n",
        "XD=XDB[['Edad','Ingresos','Egresos','Monto (EAD)']]\n",
        "yd=XDB[['PreApr']]"
      ],
      "metadata": {
        "id": "4A04dmZv-Wi1"
      },
      "execution_count": null,
      "outputs": []
    },
    {
      "cell_type": "markdown",
      "source": [
        "2.Se procede con la implementacion del modelo\n",
        "\n",
        "* max_depth= Numero de variables disponibles\n",
        "* gini: es el criterio que indica el grado de error del modelo"
      ],
      "metadata": {
        "id": "q-v05Wrg_NZl"
      }
    },
    {
      "cell_type": "code",
      "source": [
        "mar=DecisionTreeClassifier(criterion='gini',max_depth=4)\n",
        "\n",
        "mar.fit(XD,yd)\n",
        "\n",
        "#Despliegue del Arbol de Decisión\n",
        "from sklearn.tree import export_graphviz #Exportar\n",
        "from pydotplus import graph_from_dot_data #Crear el Gráfico\n",
        "\n",
        "vs=['Edad', 'Ingresos', 'Egresos', 'Monto (EAD)']\n",
        "\n",
        "dot_data=export_graphviz(mar,feature_names=vs)\n",
        "\n",
        "graph=graph_from_dot_data(dot_data)\n",
        "graph.write_png('1.ArbolPreApr.png')\n"
      ],
      "metadata": {
        "colab": {
          "base_uri": "https://localhost:8080/"
        },
        "id": "vWqwZz6D_UIB",
        "outputId": "919b9041-6718-4280-b103-baa49a6edf54"
      },
      "execution_count": null,
      "outputs": [
        {
          "output_type": "execute_result",
          "data": {
            "text/plain": [
              "True"
            ]
          },
          "metadata": {},
          "execution_count": 21
        }
      ]
    },
    {
      "cell_type": "code",
      "source": [
        "4.Desempeño del modelo"
      ],
      "metadata": {
        "id": "irHOl9v9Hqn2"
      },
      "execution_count": null,
      "outputs": []
    },
    {
      "cell_type": "code",
      "source": [
        "ydp=mar.predict(XD)\n",
        "cm=confusion_matrix(yd,ydp)\n",
        "print(cm)\n",
        "\n",
        "VN=cm[0,0]; FP=cm[0,1]; FN=cm[1,0]; VP=cm[1,1]\n",
        "\n",
        "Exactitud=(VP+VN)/(VP+VN+FP+FN) #funcionamiento general del modelo\n",
        "sensibilidad=VP/(VP+FN)         #Como se comporto el model con los aprovados\n",
        "Especificidad=VN/(VN+FP)        #Como se comporto el modelo con los megados\n",
        "Precision=VP/(VP+FP)            # Cual es el acierto clasificando los positivos\n",
        "Tasaerror=(FP+FN)/(VP+VN+FP+FN) #Equivocacion general\n",
        "PreNeg=VN/(VN+FN)               #Como funciona el modelo negando creditos\n",
        "\n",
        "print('Exactitud:',Exactitud)\n",
        "print('Sensibilidad:',sensibilidad)\n",
        "print('Especificidad:',Especificidad)\n",
        "print('Precision:',Precision)\n",
        "print('TasaError:',Tasaerror)\n",
        "print('PreNeg:',PreNeg)"
      ],
      "metadata": {
        "colab": {
          "base_uri": "https://localhost:8080/"
        },
        "id": "W0Z4iZ2wHvIt",
        "outputId": "dc951ae2-2082-47e1-c7ba-02edfd62d026"
      },
      "execution_count": null,
      "outputs": [
        {
          "output_type": "stream",
          "name": "stdout",
          "text": [
            "[[2301  658]\n",
            " [ 644 2239]]\n",
            "Exactitud: 0.7771311194796303\n",
            "Sensibilidad: 0.7766215747485259\n",
            "Especificidad: 0.7776275768840825\n",
            "Precision: 0.772868484639282\n",
            "TasaError: 0.22286888052036974\n",
            "PreNeg: 0.7813242784380305\n"
          ]
        }
      ]
    },
    {
      "cell_type": "markdown",
      "source": [
        "5. Creamos el informe para los que no poseen preaprobacion"
      ],
      "metadata": {
        "id": "07o9CLwrKisJ"
      }
    },
    {
      "cell_type": "code",
      "source": [
        "#Se toma la totalidad de los solicitante\n",
        "XDB2=pd.read_excel (nxl, sheet_name=0)\n",
        "XDB2.head (100)\n",
        "yd2=XDB2[['PreApr']]\n",
        "yd2.head(10)\n",
        "\n",
        "#Donde estan los que no poseen informacion de PreApr\n",
        "filas=np.where((np.isnan(yd2))==True)[0]\n",
        "print('Las filas que no poseen informacion:',filas)\n",
        "\n",
        "#se hace el pronostico de la PreApr para estas personas\n",
        "XD2=XDB2[['Edad','Ingresos','Egresos','Monto (EAD)']]\n",
        "XD2=XD2.iloc[filas,]\n",
        "\n",
        "#Se hace el pronostico para estas personas\n",
        "ydp2=mar.predict(XD2)\n",
        "print('Pronostico:',ydp2)\n",
        "\n",
        "#Crear el informe con la PreApr\n",
        "dfp=pd.DataFrame(np.column_stack((filas,XD2,ydp2)))\n",
        "dfp.columns=['filas','Edad','Ingresos','Egresos','Monto (EAD)','PreApr']\n",
        "dfp.head(10)\n",
        "dfp.to_excel('InformePreApr.xlsx')\n",
        "\n",
        "#Cuantos fueron positivos y cuantos negativos\n",
        "print('los negados pronosticados son:',len(np.where(ydp2==0)[0]))\n",
        "print('los aprobados pronosticados son:',len(np.where(ydp2==1)[0]))"
      ],
      "metadata": {
        "colab": {
          "base_uri": "https://localhost:8080/"
        },
        "id": "GlpZt8GkKwPx",
        "outputId": "66900f3e-d7fa-409f-fa9c-f02c2ad29d04"
      },
      "execution_count": null,
      "outputs": [
        {
          "output_type": "stream",
          "name": "stdout",
          "text": [
            "Las filas que no poseen informacion: [   6    7   11 ... 8367 8372 8377]\n",
            "Pronostico: [0 0 1 ... 0 1 0]\n",
            "los negados pronosticados son: 1276\n",
            "los aprobados pronosticados son: 1260\n"
          ]
        }
      ]
    },
    {
      "cell_type": "markdown",
      "source": [
        "Analisis de resultados\n",
        "\n",
        "Para la implementacion del modelo de Arbol de Decisión, se tomaron un total de 5 variables, 4 variables de entrada entre las que se destacan Edad, Ingresos, Egresos y Monto (EAD) (Se debe describir al principio del documento), y una variable de salida que permite evaluar la preaprobación del crédito. Para la construcción del modelo se tuvieron un total de 5842 datos dividos en 2959 créditos Prenegados y un total de 2883 Aprobados.\n",
        "\n",
        "Luego de la ejecución del modelo se logró una exactitud cercana al 77% en promedio, lo que esta por encima del 75% frente a la exactitud, lo que indica la calidad del modelo en el pronóstico.\n",
        "\n",
        "Es importante destacar que el coeficiente de sensibilidad estuvo por encima del 75% (77%), mientras que la PredNegativa se ubicó igualmente por encima 75% (78%), lo que corrobora el buen funcionamiento del modelo.\n",
        "\n",
        "La base de datos completa posee un total de 2536 solicitantes de crédito con ausencia de PreAprobación. Luego de la construcción del modelo se procedio con el pronóstico del valor de preaprobación para esto solicitantes. Luego se logró un informe de preaprobación en donde un total de 1276 (50%) fueron PreNegados y un total de 1260 (50%) fueron Preaprobados."
      ],
      "metadata": {
        "id": "eOd85mB8R0Vc"
      }
    }
  ]
}