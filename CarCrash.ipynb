{
  "nbformat": 4,
  "nbformat_minor": 0,
  "metadata": {
    "colab": {
      "provenance": [],
      "authorship_tag": "ABX9TyO1S9WA2Yr0mhOdP67uEAni",
      "include_colab_link": true
    },
    "kernelspec": {
      "name": "python3",
      "display_name": "Python 3"
    },
    "language_info": {
      "name": "python"
    }
  },
  "cells": [
    {
      "cell_type": "markdown",
      "metadata": {
        "id": "view-in-github",
        "colab_type": "text"
      },
      "source": [
        "<a href=\"https://colab.research.google.com/github/JuanJopz08/AnaliticaNeg/blob/main/CarCrash.ipynb\" target=\"_parent\"><img src=\"https://colab.research.google.com/assets/colab-badge.svg\" alt=\"Open In Colab\"/></a>"
      ]
    },
    {
      "cell_type": "code",
      "source": [
        "import numpy as np\n",
        "import pandas as pd\n",
        "from sklearn.naive_bayes import GaussianNB\n",
        "\n",
        "# Cargar la base de datos\n",
        "file_path = '/content/1. BD2_CarCrash_Int.xlsx'\n",
        "df_total = pd.read_excel(file_path)\n",
        "\n",
        "# Filtrar por condado de San Francisco\n",
        "df_sf = df_total[df_total['County'] == 'SAN FRANCISCO']\n",
        "\n",
        "# Seleccionar variables de interés\n",
        "df_sf_cortado = df_sf[['Weekday', 'ViolCat', 'Daylight', 'Month', 'CrashType', 'ClearWeather', 'Highway']]\n",
        "\n",
        "# Convertir CrashType a valores numéricos según orden alfabético\n",
        "df_sf_cortado.loc[:, 'CrashType'] = df_sf_cortado['CrashType'].astype('category').cat.codes\n",
        "print(df_sf_cortado['CrashType'])\n",
        "# Eliminar registros con datos faltantes\n",
        "df_sf_cortado.dropna(inplace=True)\n",
        "\n",
        "# Definir variables de entrada y salida\n",
        "XD = df_sf_cortado[['Weekday', 'ViolCat', 'Daylight', 'Month', 'CrashType', 'ClearWeather']]\n",
        "yd = df_sf_cortado[['Highway']]\n",
        "\n",
        "# Entrenar modelo Naive Bayes\n",
        "mnb = GaussianNB()\n",
        "mnb.fit(XD, yd.values.ravel())\n",
        "\n",
        "# Obtener información del modelo\n",
        "ct = mnb.class_count_\n",
        "print(\"Distribución de los datos:\", ct)\n",
        "print(\"Total de datos:\", len(XD))\n",
        "print(\"Porcentaje por categoría:\", ct / len(XD))\n",
        "\n",
        "# Calcular medias y desviaciones estándar por categoría\n",
        "u = mnb.theta_\n",
        "std = np.sqrt(mnb.var_)\n",
        "print(\"Media por categoría:\\n\", u)\n",
        "print(\"Desviación estándar por categoría:\\n\", std)\n",
        "\n",
        "# Realizar una predicción\n",
        "data_to_predict = np.array([[5,1,1,3,4,0]])\n",
        "prediction = mnb.predict(data_to_predict)\n",
        "print(\"Predicción para [5,1,1,3,4,0]:\", prediction[0])\n"
      ],
      "metadata": {
        "colab": {
          "base_uri": "https://localhost:8080/"
        },
        "id": "7EdLVIk1uCJz",
        "outputId": "f8911aef-b185-47c5-cc91-980d1e47d1cb"
      },
      "execution_count": null,
      "outputs": [
        {
          "output_type": "stream",
          "name": "stdout",
          "text": [
            "907       0\n",
            "1580      0\n",
            "1581      0\n",
            "1586      0\n",
            "1587      0\n",
            "         ..\n",
            "112598    6\n",
            "112599    6\n",
            "112600    6\n",
            "112601    6\n",
            "112602    6\n",
            "Name: CrashType, Length: 2081, dtype: object\n",
            "Distribución de los datos: [1580.  501.]\n",
            "Total de datos: 2081\n",
            "Porcentaje por categoría: [0.75925036 0.24074964]\n",
            "Media por categoría:\n",
            " [[3.88417722 7.45696203 0.66265823 4.35189873 3.21772152 0.86265823]\n",
            " [3.9261477  4.1497006  0.62075848 6.69461078 2.27744511 0.79840319]]\n",
            "Desviación estándar por categoría:\n",
            " [[1.95062542 3.52136997 0.47280262 2.3433645  1.87371962 0.34420782]\n",
            " [2.01603723 2.16198902 0.48519831 3.44163641 1.05765448 0.40119266]]\n",
            "Predicción para [5,1,1,3,4,0]: 0\n"
          ]
        },
        {
          "output_type": "stream",
          "name": "stderr",
          "text": [
            "<ipython-input-10-896d4bda56b7>:19: SettingWithCopyWarning: \n",
            "A value is trying to be set on a copy of a slice from a DataFrame\n",
            "\n",
            "See the caveats in the documentation: https://pandas.pydata.org/pandas-docs/stable/user_guide/indexing.html#returning-a-view-versus-a-copy\n",
            "  df_sf_cortado.dropna(inplace=True)\n",
            "/usr/local/lib/python3.11/dist-packages/sklearn/utils/validation.py:2739: UserWarning: X does not have valid feature names, but GaussianNB was fitted with feature names\n",
            "  warnings.warn(\n"
          ]
        }
      ]
    },
    {
      "cell_type": "code",
      "source": [
        "#Primer punto\n",
        "num_datos = df_total.shape[0]\n",
        "print(num_datos)\n",
        "num_datos_sf = df_sf.shape[0]\n",
        "print(num_datos_sf)"
      ],
      "metadata": {
        "colab": {
          "base_uri": "https://localhost:8080/"
        },
        "id": "9kALEAfdyJtE",
        "outputId": "cac456dd-fce4-410e-d17c-782c475133f3"
      },
      "execution_count": null,
      "outputs": [
        {
          "output_type": "stream",
          "name": "stdout",
          "text": [
            "112660\n",
            "2081\n"
          ]
        }
      ]
    },
    {
      "cell_type": "markdown",
      "source": [
        "¿Cuál es el número de datos total de la base de datos?\n",
        "La base de datos cuenta con 112,660 registros en total. Tras filtrar por San Francisco, quedaron 2,081 datos, asegurando un análisis específico para el modelo."
      ],
      "metadata": {
        "id": "dtpt6wLhCiWm"
      }
    },
    {
      "cell_type": "code",
      "source": [
        "#Segundo punto\n",
        "print(\"Porcentaje por categoría:\", ct / len(XD))\n"
      ],
      "metadata": {
        "colab": {
          "base_uri": "https://localhost:8080/"
        },
        "id": "8vj0WrvWy6Rt",
        "outputId": "e8f637e0-2163-44d5-b70c-a2297ef1ae81"
      },
      "execution_count": null,
      "outputs": [
        {
          "output_type": "stream",
          "name": "stdout",
          "text": [
            "Porcentaje por categoría: [0.75925036 0.24074964]\n"
          ]
        }
      ]
    },
    {
      "cell_type": "markdown",
      "source": [
        "¿Cuál es el porcentaje de los datos que hacen parte de cada una de las categorías de clasificación? El modelo Naive Bayes muestra que el 75.93% de los datos corresponden a la primera categoría de clasificación, mientras que el 24.07% pertenecen a la segunda. Esto indica un mayor número de accidentes en una de las dos categorías de autopista, lo que podría influir en la predicción del modelo."
      ],
      "metadata": {
        "id": "oUi3aUKWCudF"
      }
    },
    {
      "cell_type": "code",
      "source": [
        "#Tercer punto\n",
        "intervalos = df_sf_cortado.groupby('Highway')['Weekday'].agg(['mean', 'std'])\n",
        "\n",
        "# Limites\n",
        "limite_inferior = intervalos['mean'] - intervalos['std']\n",
        "limite_superior = intervalos['mean'] + intervalos['std']\n",
        "\n",
        "print(limite_inferior)\n",
        "print(limite_superior)\n"
      ],
      "metadata": {
        "colab": {
          "base_uri": "https://localhost:8080/"
        },
        "id": "auqh-XKg7INk",
        "outputId": "07466fbe-c357-4e47-9abe-ac645d638a10"
      },
      "execution_count": null,
      "outputs": [
        {
          "output_type": "stream",
          "name": "stdout",
          "text": [
            "Highway\n",
            "0    1.932934\n",
            "1    1.908095\n",
            "dtype: float64\n",
            "Highway\n",
            "0    5.83542\n",
            "1    5.94420\n",
            "dtype: float64\n"
          ]
        }
      ]
    },
    {
      "cell_type": "markdown",
      "source": [
        "Determinar los intervalos en los cual se encuentra la variación del día de la semana para cada una de las categorías de clasificación.  R/De acuerdo con los resultados del modelo, se observó que la variación del día de la semana para accidentes fuera de autopistas está en el intervalo [1.908095, 1.932934], mientras que en autopistas es [5.83542, 5.94420], indicando mayor dispersión en autopistas."
      ],
      "metadata": {
        "id": "7aw_cIKYDiZm"
      }
    },
    {
      "cell_type": "code",
      "source": [
        "#Cuarto punto\n",
        "intervalos_violcat = df_sf_cortado.groupby('Highway')['ViolCat'].agg(['mean', 'std'])\n",
        "\n",
        "limite_inferior_violcat = intervalos_violcat['mean'] - intervalos_violcat['std']\n",
        "limite_superior_violcat = intervalos_violcat['mean'] + intervalos_violcat['std']\n",
        "\n",
        "print(limite_inferior_violcat)\n",
        "print(limite_superior_violcat)\n"
      ],
      "metadata": {
        "colab": {
          "base_uri": "https://localhost:8080/"
        },
        "id": "F50Inop98GQ-",
        "outputId": "d5af72e4-fbcd-48b4-ae91-ca543242fb4f"
      },
      "execution_count": null,
      "outputs": [
        {
          "output_type": "stream",
          "name": "stdout",
          "text": [
            "Límites inferiores de ViolCat por categoría de Highway:\n",
            " Highway\n",
            "0    3.934477\n",
            "1    1.985551\n",
            "dtype: float64\n",
            "Límites superiores de ViolCat por categoría de Highway:\n",
            " Highway\n",
            "0    10.979447\n",
            "1     6.313851\n",
            "dtype: float64\n"
          ]
        }
      ]
    },
    {
      "cell_type": "markdown",
      "source": [
        "Determinar los intervalos en los cual se encuentra la variación de la ViolCat para cada una de las categorías de clasificación.  R/De acuerdo con los resultados del modelo, se observó que la variación de ViolCat para accidentes fuera de autopistas se encuentra en el intervalo [1.985551, 6.313851], mientras que en autopistas está en [3.934477, 10.979447], indicando un mayor rango de impacto en accidentes en autopistas."
      ],
      "metadata": {
        "id": "V1sW50-bDnJG"
      }
    },
    {
      "cell_type": "code",
      "source": [
        "#Quinto punto\n",
        "intervalos_crashtype = df_sf_cortado.groupby('Highway')['CrashType'].agg(['mean', 'std'])\n",
        "\n",
        "limite_inferior_crashtype = intervalos_crashtype['mean'] - intervalos_crashtype['std']\n",
        "limite_superior_crashtype = intervalos_crashtype['mean'] + intervalos_crashtype['std']\n",
        "\n",
        "print(limite_inferior_crashtype)\n",
        "print(limite_superior_crashtype)\n"
      ],
      "metadata": {
        "colab": {
          "base_uri": "https://localhost:8080/"
        },
        "id": "U_Sk5VI48jWo",
        "outputId": "5e8d3196-be19-4176-d680-69bd504de9f4"
      },
      "execution_count": null,
      "outputs": [
        {
          "output_type": "stream",
          "name": "stdout",
          "text": [
            "Highway\n",
            "0    1.343409\n",
            "1    1.218734\n",
            "dtype: object\n",
            "Highway\n",
            "0    5.092034\n",
            "1    3.336157\n",
            "dtype: object\n"
          ]
        }
      ]
    },
    {
      "cell_type": "markdown",
      "source": [
        "Determinar el intervalo en los cuales se encuentra la variación de la Categoría de accidentes para cada una de las categorías de clasificación. R/De acuerdo con los resultados del modelo, la variación de la Categoría de Accidentes para accidentes fuera de autopistas se encuentra en el intervalo [1.218734, 1.343409], mientras que en autopistas está en [3.336157, 5.092034], mostrando una mayor dispersión en autopistas."
      ],
      "metadata": {
        "id": "yr_QnvBqDuaZ"
      }
    },
    {
      "cell_type": "code",
      "source": [
        "#Sexto punto\n",
        "Ex=(VN+VP)/(VN+FP+FN+VP)\n",
        "print(\"la exactitud es:\\n\", Ex)"
      ],
      "metadata": {
        "colab": {
          "base_uri": "https://localhost:8080/"
        },
        "id": "UxqT5qWf9wmG",
        "outputId": "aa6ef50a-21d1-416a-d938-fd6333742895"
      },
      "execution_count": null,
      "outputs": [
        {
          "output_type": "stream",
          "name": "stdout",
          "text": [
            "la exactitud es:\n",
            " 0.7890437289764536\n"
          ]
        }
      ]
    },
    {
      "cell_type": "markdown",
      "source": [
        "¿Cuál es la exactitud alcanzada por el modelo?.  De acuerdo con los resultados del modelo, se observó que la exactitud alcanzada es 78.90%, lo que indica un buen desempeño en la clasificación de accidentes."
      ],
      "metadata": {
        "id": "lUqiVx3OEFEH"
      }
    },
    {
      "cell_type": "code",
      "source": [
        "#Septimo punto\n",
        "Esp=VN/(VN+FP)\n",
        "print(\"la especificidad es:\\n\", Esp)"
      ],
      "metadata": {
        "colab": {
          "base_uri": "https://localhost:8080/"
        },
        "id": "UTE_bJqJ-N3c",
        "outputId": "c811ad59-a0af-4da8-d201-abf835b4ab83"
      },
      "execution_count": null,
      "outputs": [
        {
          "output_type": "stream",
          "name": "stdout",
          "text": [
            "la especificidad es:\n",
            " 0.8639240506329114\n"
          ]
        }
      ]
    },
    {
      "cell_type": "markdown",
      "source": [
        "¿Cuál es la Especificidad alcanzada por el modelo?.  De acuerdo con los resultados del modelo, se observó que la especificidad alcanzada es 86.39%, lo que indica una alta capacidad para identificar correctamente los casos negativos."
      ],
      "metadata": {
        "id": "ekjBXXn3EKrl"
      }
    },
    {
      "cell_type": "code",
      "source": [
        "from sklearn.metrics import confusion_matrix\n",
        "\n",
        "ydp = mnb.predict(XD)\n",
        "\n",
        "#Octavo punto\n",
        "cm=confusion_matrix(yd,ydp)\n",
        "print(\"la matriz de confusion es:\\n\", cm)\n",
        "\n",
        "VN=cm [0,0];FP=cm[0,1];FN=cm[1,0];VP=cm[1,1]"
      ],
      "metadata": {
        "colab": {
          "base_uri": "https://localhost:8080/"
        },
        "id": "O2Nm5Vht9FJf",
        "outputId": "1f670b44-b642-4fe2-9cf4-cce92000dce9"
      },
      "execution_count": null,
      "outputs": [
        {
          "output_type": "stream",
          "name": "stdout",
          "text": [
            "la matriz de confusion es:\n",
            " [[1365  215]\n",
            " [ 224  277]]\n"
          ]
        }
      ]
    },
    {
      "cell_type": "markdown",
      "source": [
        "Indicar el intervalo en donde se ubica la cantidad de verdaderos negativo.\n",
        "Indicar el intervalo en donde se ubica la cantidad de verdaderos positivos.  R/De acuerdo con la matriz de confusión, la cantidad de Verdaderos Negativos, se encuentra en el intervalo 1365, mientras que la cantidad de Verdaderos Positivos, se ubica en el intervalo 277. Esto refleja el desempeño del modelo en la clasificación de accidentes.\n"
      ],
      "metadata": {
        "id": "l1wR4FHMEgIh"
      }
    },
    {
      "cell_type": "code",
      "source": [
        "#Noveno punto\n",
        "TE=(FN+FP)/(VN+FP+FN+VP)\n",
        "print(\"la tasa de error es:\\n\", TE)"
      ],
      "metadata": {
        "colab": {
          "base_uri": "https://localhost:8080/"
        },
        "id": "qyW-jpvw-7hf",
        "outputId": "fb5a997f-b397-47f5-b938-30f5e37f00e1"
      },
      "execution_count": null,
      "outputs": [
        {
          "output_type": "stream",
          "name": "stdout",
          "text": [
            "la tasa de error es:\n",
            " 0.21095627102354636\n"
          ]
        }
      ]
    },
    {
      "cell_type": "markdown",
      "source": [
        "¿Cuál es la tasa de error alcanzada por el modelo?.  De acuerdo con los resultados del modelo, la tasa de error alcanzada es 21.10%, lo que indica el porcentaje de predicciones incorrectas en la clasificación de accidentes."
      ],
      "metadata": {
        "id": "veNdyG0REmRM"
      }
    },
    {
      "cell_type": "code",
      "source": [
        "#Decimo punto\n",
        "Sen=VP/(VP+FN)\n",
        "print(\"la sensibilidad es:\\n\", Sen)"
      ],
      "metadata": {
        "colab": {
          "base_uri": "https://localhost:8080/"
        },
        "id": "-NQjafdg_ipy",
        "outputId": "f9cf1c8c-0187-4ca4-b7ae-2cc39d2a9203"
      },
      "execution_count": null,
      "outputs": [
        {
          "output_type": "stream",
          "name": "stdout",
          "text": [
            "la sensibilidad es:\n",
            " 0.5528942115768463\n"
          ]
        }
      ]
    },
    {
      "cell_type": "markdown",
      "source": [
        "¿Cuál es la Sensibilidad alcanzada por el modelo?.  De acuerdo con los resultados arrojados por el modelo, la Sensibilidad alcanzada por el modelo Naive Bayes es de 55.29%. Este valor indica la capacidad del modelo para identificar los accidentes que efectivamente ocurrieron en una autopista. Aunque la sensibilidad no es tan alta como otros indicadores, sigue siendo un resultado relevante dentro del contexto del análisis"
      ],
      "metadata": {
        "id": "JKKTXDaBEoMd"
      }
    },
    {
      "cell_type": "code",
      "source": [
        "#Decimo primer punto\n",
        "Pre=VP/(VP+FP)\n",
        "print(\"la precision es:\\n\", Pre)\n",
        "\n",
        "Pren=VN/(VN+FN)\n",
        "print(\"la precision negativa es:\\n\", Pren)"
      ],
      "metadata": {
        "colab": {
          "base_uri": "https://localhost:8080/"
        },
        "id": "Efe9h3-n-64W",
        "outputId": "1a4d3b78-1813-4f1b-a92e-17e41cf31d19"
      },
      "execution_count": null,
      "outputs": [
        {
          "output_type": "stream",
          "name": "stdout",
          "text": [
            "la precision es:\n",
            " 0.5630081300813008\n",
            "la precision negativa es:\n",
            " 0.8590308370044053\n"
          ]
        }
      ]
    },
    {
      "cell_type": "markdown",
      "source": [
        "¿Cuál es la Precisión Alcanzada por el Modelo?.  La Precisión alcanzada por el modelo es de 56.30%, mientras que la Precisión Negativa es de 85.90%. Esto indica que el modelo tiene un mejor desempeño identificando correctamente los casos negativos, accidentes que no ocurrieron en autopistas, en comparación con los casos positivos accidentes en autopistas"
      ],
      "metadata": {
        "id": "H7j106n4ErpK"
      }
    },
    {
      "cell_type": "code",
      "source": [
        "#Decimo segundo punto\n",
        "XS=[[5,1,1,3,4,0]]\n",
        "mnb.predict(XS)"
      ],
      "metadata": {
        "colab": {
          "base_uri": "https://localhost:8080/"
        },
        "id": "qa-TFPGb_yw7",
        "outputId": "dc1f17b9-420b-4a63-f898-77a80a5f5c19"
      },
      "execution_count": null,
      "outputs": [
        {
          "output_type": "stream",
          "name": "stderr",
          "text": [
            "/usr/local/lib/python3.11/dist-packages/sklearn/utils/validation.py:2739: UserWarning: X does not have valid feature names, but GaussianNB was fitted with feature names\n",
            "  warnings.warn(\n"
          ]
        },
        {
          "output_type": "execute_result",
          "data": {
            "text/plain": [
              "array([0])"
            ]
          },
          "metadata": {},
          "execution_count": 35
        }
      ]
    },
    {
      "cell_type": "markdown",
      "source": [
        "¿Indicar la categoría a la que pertenece una persona con las siguientes características [5,1,1,3,4,0]?.  De acuerdo con el resultado array([0]), una persona con las características [5, 1, 1, 3, 4, 0] pertenece a la categoría 0. Esto indica que, según el modelo, esta combinación de variables predice que la persona no tendra un accidente en la autopista"
      ],
      "metadata": {
        "id": "OzTGAHVdExPX"
      }
    }
  ]
}